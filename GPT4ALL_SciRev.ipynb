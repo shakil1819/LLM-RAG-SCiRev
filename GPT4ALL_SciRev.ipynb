{
  "cells": [
    {
      "cell_type": "markdown",
      "metadata": {
        "id": "view-in-github",
        "colab_type": "text"
      },
      "source": [
        "<a href=\"https://colab.research.google.com/github/shakil1819/LLM-RAG-SCiRev/blob/main/GPT4ALL_SciRev.ipynb\" target=\"_parent\"><img src=\"https://colab.research.google.com/assets/colab-badge.svg\" alt=\"Open In Colab\"/></a>"
      ]
    },
    {
      "cell_type": "code",
      "execution_count": 1,
      "metadata": {
        "colab": {
          "base_uri": "https://localhost:8080/"
        },
        "id": "uc2NYyPTLvgA",
        "outputId": "09c1e44f-2374-4af7-c340-33fc5db800d9"
      },
      "outputs": [
        {
          "output_type": "stream",
          "name": "stdout",
          "text": [
            "Collecting gpt4all\n",
            "  Downloading gpt4all-2.0.1-py3-none-manylinux1_x86_64.whl (4.9 MB)\n",
            "\u001b[2K     \u001b[90m━━━━━━━━━━━━━━━━━━━━━━━━━━━━━━━━━━━━━━━━\u001b[0m \u001b[32m4.9/4.9 MB\u001b[0m \u001b[31m34.4 MB/s\u001b[0m eta \u001b[36m0:00:00\u001b[0m\n",
            "\u001b[?25hRequirement already satisfied: requests in /usr/local/lib/python3.10/dist-packages (from gpt4all) (2.31.0)\n",
            "Requirement already satisfied: tqdm in /usr/local/lib/python3.10/dist-packages (from gpt4all) (4.66.1)\n",
            "Requirement already satisfied: charset-normalizer<4,>=2 in /usr/local/lib/python3.10/dist-packages (from requests->gpt4all) (3.3.0)\n",
            "Requirement already satisfied: idna<4,>=2.5 in /usr/local/lib/python3.10/dist-packages (from requests->gpt4all) (3.4)\n",
            "Requirement already satisfied: urllib3<3,>=1.21.1 in /usr/local/lib/python3.10/dist-packages (from requests->gpt4all) (2.0.7)\n",
            "Requirement already satisfied: certifi>=2017.4.17 in /usr/local/lib/python3.10/dist-packages (from requests->gpt4all) (2023.7.22)\n",
            "Installing collected packages: gpt4all\n",
            "Successfully installed gpt4all-2.0.1\n"
          ]
        }
      ],
      "source": [
        "!pip install gpt4all"
      ]
    },
    {
      "cell_type": "code",
      "source": [
        "# https://gpt4all.io/index.html\n",
        "# https://github.com/nomic-ai/gpt4all/tree/main/gpt4all-bindings/python\n",
        "# https://docs.gpt4all.io/gpt4all_python.html https://www.kaggle.com/code/perryxiao/chatgpt-langchain-gpt4all/notebook\n",
        "!pip install gpt4all\n",
        "from gpt4all import GPT4All\n",
        "model = GPT4All(\"gpt4all-falcon-q4_0.gguf\")\n",
        "output = model.generate(\"Can you write a nice prompt to generate literature review of research article?\", max_tokens=200)\n",
        "print(output)"
      ],
      "metadata": {
        "colab": {
          "base_uri": "https://localhost:8080/"
        },
        "id": "fnv4t5BXMNQP",
        "outputId": "d7637680-f48e-44ab-9429-d80ef12fa05b"
      },
      "execution_count": 6,
      "outputs": [
        {
          "output_type": "stream",
          "name": "stdout",
          "text": [
            "Requirement already satisfied: gpt4all in /usr/local/lib/python3.10/dist-packages (2.0.1)\n",
            "Requirement already satisfied: requests in /usr/local/lib/python3.10/dist-packages (from gpt4all) (2.31.0)\n",
            "Requirement already satisfied: tqdm in /usr/local/lib/python3.10/dist-packages (from gpt4all) (4.66.1)\n",
            "Requirement already satisfied: charset-normalizer<4,>=2 in /usr/local/lib/python3.10/dist-packages (from requests->gpt4all) (3.3.0)\n",
            "Requirement already satisfied: idna<4,>=2.5 in /usr/local/lib/python3.10/dist-packages (from requests->gpt4all) (3.4)\n",
            "Requirement already satisfied: urllib3<3,>=1.21.1 in /usr/local/lib/python3.10/dist-packages (from requests->gpt4all) (2.0.7)\n",
            "Requirement already satisfied: certifi>=2017.4.17 in /usr/local/lib/python3.10/dist-packages (from requests->gpt4all) (2023.7.22)\n"
          ]
        },
        {
          "output_type": "stream",
          "name": "stderr",
          "text": [
            "100%|██████████| 4.21G/4.21G [01:15<00:00, 55.9MiB/s]\n"
          ]
        },
        {
          "output_type": "stream",
          "name": "stdout",
          "text": [
            "\n",
            "Sure, here's an example prompt for generating a literature review:\n",
            "\n",
            "Prompt: Write a literature review on the topic of \"The impact of social media on mental health.\"\n",
            "\n",
            "Instructions:\n",
            "\n",
            "1. Conduct a thorough search in academic databases such as PubMed, PsycINFO, and JSTOR to find relevant articles on the topic.\n",
            "2. Read through each article carefully and take note of key findings, theories, and research methods used in the studies.\n",
            "3. Organize your notes into sections or categories based on themes or subtopics that emerge from the literature.\n",
            "4. Write a summary of each section or category, highlighting the main points and conclusions drawn from the articles.\n",
            "5. Integrate any relevant findings or theories from other research articles into your review.\n",
            "6. Cite all sources using APA style formatting.\n",
            "7. Revise and edit your literature review for clarity and coherence.\n",
            "8. Proofread your work to ensure accuracy\n"
          ]
        }
      ]
    }
  ],
  "metadata": {
    "accelerator": "GPU",
    "colab": {
      "provenance": [],
      "mount_file_id": "1b_KPe3fig38bh3Kw5rIZy33jvs9q3-Og",
      "authorship_tag": "ABX9TyOs9WkQWk3vQ8/XRopk6Wdo",
      "include_colab_link": true
    },
    "kernelspec": {
      "display_name": "Python 3",
      "name": "python3"
    },
    "language_info": {
      "name": "python"
    }
  },
  "nbformat": 4,
  "nbformat_minor": 0
}